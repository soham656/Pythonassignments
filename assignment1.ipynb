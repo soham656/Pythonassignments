{
 "cells": [
  {
   "cell_type": "markdown",
   "id": "c3153148-adc1-426d-a933-5a8f97dee8d2",
   "metadata": {},
   "source": [
    "# Q1)What is 7 to the power of 4"
   ]
  },
  {
   "cell_type": "code",
   "execution_count": 2,
   "id": "697b02d1-0e61-4dc2-aa6f-1d591016e9d9",
   "metadata": {},
   "outputs": [
    {
     "data": {
      "text/plain": [
       "2401"
      ]
     },
     "execution_count": 2,
     "metadata": {},
     "output_type": "execute_result"
    }
   ],
   "source": [
    "7**4"
   ]
  },
  {
   "cell_type": "markdown",
   "id": "858fb070-0c1e-49e1-b79f-5b74aebf7cd2",
   "metadata": {},
   "source": [
    "# Q2)\n",
    "''' ** Split this string:**\n",
    "\n",
    "s = \"Hi there Yogesh!\"\n",
    "\n",
    " **into a list. ** '''"
   ]
  },
  {
   "cell_type": "code",
   "execution_count": 10,
   "id": "b64973c4-b16f-49d1-8e5e-3b6b2e8e635c",
   "metadata": {},
   "outputs": [],
   "source": [
    "v1= \"Hi there Yogesh!\""
   ]
  },
  {
   "cell_type": "code",
   "execution_count": 23,
   "id": "9a2147d4-af28-4833-860c-462923dafc12",
   "metadata": {},
   "outputs": [
    {
     "data": {
      "text/plain": [
       "['-23902']"
      ]
     },
     "execution_count": 23,
     "metadata": {},
     "output_type": "execute_result"
    }
   ],
   "source": [
    "list(v1.split(sep=' '))"
   ]
  },
  {
   "cell_type": "markdown",
   "id": "a09d45e6-8fef-420d-a8ef-b9a2d31e36bd",
   "metadata": {},
   "source": [
    "# Q3)  \n",
    "** Given the variables:**\r\n",
    "\r\n",
    "planet = \"Earth\"\r\n",
    "diameter = 12742\r\n",
    "** Use .format() to print the following string: **\r\n",
    "\r\n",
    "The diameter of Earth is 12742 kilometers."
   ]
  },
  {
   "cell_type": "code",
   "execution_count": 27,
   "id": "95061924-194a-4feb-85d8-8b836b9eceb6",
   "metadata": {},
   "outputs": [
    {
     "data": {
      "text/plain": [
       "'The diameter of Earth is 12742 kilometer'"
      ]
     },
     "execution_count": 27,
     "metadata": {},
     "output_type": "execute_result"
    }
   ],
   "source": [
    "v2='The diameter of {planet} is {diameter} kilometer'\n",
    "v2.format(planet='Earth',diameter='12742')"
   ]
  },
  {
   "cell_type": "markdown",
   "id": "eb58cb27-717a-474c-88c3-9677651baa70",
   "metadata": {},
   "source": [
    "# Q4)\n",
    "** Given this nested list, use indexing to grab the word \"hello\" **\n",
    "list = [1,2,[3,4],[5,[100,200,['hello']],23,11],1,7]"
   ]
  },
  {
   "cell_type": "code",
   "execution_count": 22,
   "id": "f667cec8-2e54-4bb4-9309-cfe6853c88e5",
   "metadata": {},
   "outputs": [],
   "source": [
    "list = [1,2,[3,4],[5,[100,200,['hello']],23,11],1,7]"
   ]
  },
  {
   "cell_type": "code",
   "execution_count": 24,
   "id": "f397e738-4210-4779-9971-966a345bc70f",
   "metadata": {},
   "outputs": [
    {
     "data": {
      "text/plain": [
       "['hello']"
      ]
     },
     "execution_count": 24,
     "metadata": {},
     "output_type": "execute_result"
    }
   ],
   "source": [
    "list[3][1][2]"
   ]
  },
  {
   "cell_type": "markdown",
   "id": "f4cc8c53-fd9d-4623-a838-c80746c66887",
   "metadata": {},
   "source": [
    "# Q5)\n",
    "** Given this nested dictionary grab the word \"hello\". Be prepared, this will be annoying/tricky **\n",
    "d = {'k1':[1,2,3,{'tricky':['oh','man','inception',{'target':[1,2,3,'hello']}]}]}"
   ]
  },
  {
   "cell_type": "code",
   "execution_count": 31,
   "id": "fcc62d58-03b9-46fc-98e1-1c16a4b7e696",
   "metadata": {},
   "outputs": [],
   "source": [
    "v3 = {'k1':[1,2,3,{'tricky':['oh','man','inception',{'target':[1,2,3,'hello']}]}]}"
   ]
  },
  {
   "cell_type": "code",
   "execution_count": 33,
   "id": "5c4af843-07d0-4645-ace2-bd4be9a07d89",
   "metadata": {},
   "outputs": [
    {
     "data": {
      "text/plain": [
       "'hello'"
      ]
     },
     "execution_count": 33,
     "metadata": {},
     "output_type": "execute_result"
    }
   ],
   "source": [
    "v3['k1'][3]['tricky'][3]['target'][3]"
   ]
  },
  {
   "cell_type": "markdown",
   "id": "705d19e5-8d62-4773-8e9b-0c2793cb3289",
   "metadata": {},
   "source": [
    "# Q6)\n",
    "What is the main difference between a tuple and a list?\n"
   ]
  },
  {
   "cell_type": "raw",
   "id": "e837b786-b79b-4c96-9360-ef4299b56ac6",
   "metadata": {},
   "source": [
    "The main diffrence between a tuple and a list is that a list is mutable and a tuple is not."
   ]
  },
  {
   "cell_type": "markdown",
   "id": "0fc1e1cc-495b-460a-acd5-7b23c06699be",
   "metadata": {},
   "source": [
    "# Q7)\n",
    "** Create a function that grabs the email website domain from a string in the form: **\r\n",
    "\r\n",
    "user@domain.com\r\n",
    "So for example, passing \"user@domain.com\" would return: domain.com"
   ]
  },
  {
   "cell_type": "code",
   "execution_count": 63,
   "id": "7277bab2-7df6-4449-883b-af6814454787",
   "metadata": {},
   "outputs": [],
   "source": [
    "def domain_grabber(s):\n",
    "    t=s.split(sep=\"@\")\n",
    "    print(t[1])\n",
    "    "
   ]
  },
  {
   "cell_type": "code",
   "execution_count": 65,
   "id": "8d5e975f-aa44-42fa-9c15-3e4d7494a16d",
   "metadata": {},
   "outputs": [
    {
     "name": "stdout",
     "output_type": "stream",
     "text": [
      "gmail.com\n"
     ]
    }
   ],
   "source": [
    "domain_grabber('soham@gmail.com')"
   ]
  },
  {
   "cell_type": "markdown",
   "id": "d547e2cc-7497-425a-94eb-26b1b0603a64",
   "metadata": {},
   "source": [
    "# Q8)\n",
    "** Create a basic function that returns True if the word 'dog' is contained in the input string. Don't worry about edge cases like a punctuation being attached to the word dog, but do account for capitalization. **\n",
    "\n"
   ]
  },
  {
   "cell_type": "code",
   "execution_count": 129,
   "id": "9f336d64-2f03-420d-b1b1-22a8d4e29a39",
   "metadata": {},
   "outputs": [],
   "source": [
    "\n",
    "def dog_function(s):\n",
    "    t=str(s.lower())\n",
    "    if 'dog' in t:\n",
    "        print('True')\n",
    "  \n",
    "   "
   ]
  },
  {
   "cell_type": "code",
   "execution_count": 131,
   "id": "87032651-291f-4d7e-8f9e-590be7c6d506",
   "metadata": {},
   "outputs": [
    {
     "name": "stdout",
     "output_type": "stream",
     "text": [
      "True\n"
     ]
    }
   ],
   "source": [
    "dog_function('wefnwfiwmDoGdwe')"
   ]
  },
  {
   "cell_type": "markdown",
   "id": "53cc58e9-3d23-4aeb-9d6c-1c2c4183442c",
   "metadata": {},
   "source": [
    "# Q9)\n",
    "** Create a function that counts the number of times the word \"dog\" occurs in a string. Again ignore edge cases."
   ]
  },
  {
   "cell_type": "code",
   "execution_count": 37,
   "id": "9eed62fe-ec84-477e-b9bb-d07727a94a2c",
   "metadata": {},
   "outputs": [],
   "source": [
    "def count_dog(v4): # why is this not working??  \n",
    "    v5=v4.lower()\n",
    "    v6=v5.split(sep=' ')\n",
    "    v6.count('dog')"
   ]
  },
  {
   "cell_type": "code",
   "execution_count": 192,
   "id": "13e6aaa9-b7ab-4784-85af-eb351c391d11",
   "metadata": {},
   "outputs": [],
   "source": [
    "count_dog('This dog runs faster than the other dog dude!')"
   ]
  },
  {
   "cell_type": "markdown",
   "id": "c55ac7ec-7991-4d69-9b9c-bed0c9919f24",
   "metadata": {},
   "source": [
    "# Q10)\n",
    " Use lambda expressions and the filter() function to filter out words from a list that don't start with the letter 's'. For example:**\r\n",
    "\r\n",
    "seq = ['soup','dog','salad','cat','great']"
   ]
  },
  {
   "cell_type": "code",
   "execution_count": 41,
   "id": "cab44be1-3d06-4de8-8a35-63d562fd987a",
   "metadata": {},
   "outputs": [],
   "source": [
    "seq=['soup','dog','salad','cat','great']"
   ]
  },
  {
   "cell_type": "code",
   "execution_count": 43,
   "id": "86df5dfb-ebe5-4d47-96a8-c4b2c10fe11c",
   "metadata": {},
   "outputs": [
    {
     "data": {
      "text/plain": [
       "['dog', 'cat', 'great']"
      ]
     },
     "execution_count": 43,
     "metadata": {},
     "output_type": "execute_result"
    }
   ],
   "source": [
    "list(filter(lambda z:z[0]!='s',seq))"
   ]
  },
  {
   "cell_type": "markdown",
   "id": "26427ed2-2bcd-4342-a63e-cdf48f89f490",
   "metadata": {},
   "source": [
    "# Q11)\n",
    "You are driving a little too fast, and a police officer stops you. Write a function to return one of 3 possible results: \"No ticket\", \"Small ticket\", or \"Big Ticket\". If your speed is 60 or less, the result is \"No Ticket\". If speed is between 61 and 80 inclusive, the result is \"Small Ticket\". If speed is 81 or more, the result is \"Big Ticket\". Unless it is your birthday (encoded as a boolean value in the parameters of the function) -- on your birthday, your speed can be 5 higher in all cases. "
   ]
  },
  {
   "cell_type": "code",
   "execution_count": 278,
   "id": "1f1e19ed-1553-47ec-b890-8af60a837dfb",
   "metadata": {},
   "outputs": [],
   "source": [
    "def speed_function(speed,birthday): # speed 60 or less = no ticket, bw 61 and 80 small, 81 or higher big. if bday all speed can be higher by 5.\n",
    "    if  birthday==True:\n",
    "        new_speed=speed-5\n",
    "    else:\n",
    "        new_speed=speed\n",
    "    if new_speed>80:\n",
    "        return 'BIG TICKET'\n",
    "    elif new_speed>60:\n",
    "        return \"SMALL TICKET\"\n",
    "    else:\n",
    "        return \"NO TICKET\"\n",
    "    \n",
    "    \n",
    "    "
   ]
  },
  {
   "cell_type": "code",
   "execution_count": 284,
   "id": "07fcbb72-59ac-41dd-8602-29116f9f15a0",
   "metadata": {},
   "outputs": [
    {
     "data": {
      "text/plain": [
       "'BIG TICKET'"
      ]
     },
     "execution_count": 284,
     "metadata": {},
     "output_type": "execute_result"
    }
   ],
   "source": [
    "speed_function(81,False)"
   ]
  },
  {
   "cell_type": "markdown",
   "id": "0592d37f-7cc8-45e6-ab87-8b4b9488510b",
   "metadata": {},
   "source": [
    "# Q12)\n",
    "WAP to check whether a number is palindrome or not on following conditions.\n",
    "1. take input number\n",
    "2. add number and its reverse\n",
    "3. check that number is palindrome or not,if not then sum and its reverse\n",
    "\n"
   ]
  },
  {
   "cell_type": "code",
   "execution_count": 322,
   "id": "88ccddf2-1fa6-4b4c-ae71-3574f93e92ec",
   "metadata": {},
   "outputs": [
    {
     "name": "stdin",
     "output_type": "stream",
     "text": [
      "Enter your number: 65\n"
     ]
    },
    {
     "name": "stdout",
     "output_type": "stream",
     "text": [
      "Palindrome is: 121\n"
     ]
    }
   ],
   "source": [
    "n1=input('Enter your number:')\n",
    "n2=int(n1[::-1])\n",
    "n3=str(n2+int(n1))\n",
    "while n3!=n3[::-1]:\n",
    "    n3=str((int(n3))+int(n3[::-1]))\n",
    "print(\"Palindrome is: {a}\".format(a=n3))\n"
   ]
  },
  {
   "cell_type": "markdown",
   "id": "5dfd8b2a-0e3a-48bd-b55d-1ac3c8960dd5",
   "metadata": {},
   "source": [
    "# Q13)\n"
   ]
  },
  {
   "cell_type": "raw",
   "id": "5e3c895b-20cc-4769-aada-6907fe7e287d",
   "metadata": {},
   "source": [
    "Question\n",
    "Given a string print number num by extracting all the\n",
    "digits from the string as in string\n",
    "Print negative number if the first character in \n",
    "string is '-'\n",
    "eg.\n",
    "-123abcd should return -123,abcd456-->456,fdhfh78dsd89--->7889,-56dssd78-->-5678"
   ]
  },
  {
   "cell_type": "code",
   "execution_count": 51,
   "id": "b2ab2560-4fab-49ac-a61f-17c6f45a3898",
   "metadata": {},
   "outputs": [
    {
     "name": "stdin",
     "output_type": "stream",
     "text": [
      "Input your data:  -23r9f2\n"
     ]
    },
    {
     "name": "stdout",
     "output_type": "stream",
     "text": [
      "-23902\n"
     ]
    }
   ],
   "source": [
    "v7=input(\"Input your data: \")\n",
    "numbers=[0,1,2,3,4,5,6,7,8,9]\n",
    "v8=''\n",
    "if v7[0]=='-':\n",
    "    v8=v8+v7[0]\n",
    "    \n",
    "for x in v7:\n",
    "    if x in str(numbers):\n",
    "        v8=v8+x\n",
    "print(v1)"
   ]
  },
  {
   "cell_type": "code",
   "execution_count": 3,
   "id": "d0adc9a2-f775-4711-8065-1aae9d16c4e9",
   "metadata": {},
   "outputs": [
    {
     "data": {
      "text/plain": [
       "str"
      ]
     },
     "execution_count": 3,
     "metadata": {},
     "output_type": "execute_result"
    }
   ],
   "source": [
    "type(v1)"
   ]
  },
  {
   "cell_type": "markdown",
   "id": "f0982b25-db15-4105-ae03-9ac926ff04a7",
   "metadata": {},
   "source": [
    "# Q14)\n"
   ]
  },
  {
   "cell_type": "raw",
   "id": "ec5c72ee-20c2-469b-a393-abd09b2c7e83",
   "metadata": {},
   "source": [
    "Write a python function to find and display the five \n",
    "digit number in which the first digit is two more than \n",
    "the second,the second digit is two more than the third, \n",
    "the fourth digit is two less than the third, and the \n",
    "last digit is two more than\n",
    "the fourth.The sum of the third,fourth and fifth digits\n",
    "equals the first.The sum of all the digits is 19"
   ]
  },
  {
   "cell_type": "code",
   "execution_count": 10,
   "id": "9cc5a412-2f6d-4c2a-b588-929ff62cbb36",
   "metadata": {},
   "outputs": [
    {
     "data": {
      "text/plain": [
       "'\\nabcde\\na=b+2\\nb=c+2\\nd=c-2\\ne=d+2\\nc+d+e=a\\na+b+c+d+e=19\\n'"
      ]
     },
     "execution_count": 10,
     "metadata": {},
     "output_type": "execute_result"
    }
   ],
   "source": [
    "'''\n",
    "abcde\n",
    "a=b+2  .a-2=b\n",
    "b=c+2  .b-2=c (a-4=c)\n",
    "d=c-2  .\n",
    "e=d+2\n",
    "c+d+e=a\n",
    "a+b+c+d+e=19\n",
    "'''"
   ]
  },
  {
   "cell_type": "code",
   "execution_count": 92,
   "id": "271082f4-4078-4b28-9bd2-0b6fdc48bc70",
   "metadata": {},
   "outputs": [],
   "source": [
    "def five_digit_function():\n",
    "    for x in range(0,10):\n",
    "        a=x\n",
    "        b=x-2\n",
    "        c=x-4\n",
    "        d=x-6\n",
    "        e=x-4\n",
    "        if int(c)+int(d)+int(e)==int(a) and int(a)+int(b)+int(c)+int(d)+int(e)==19:\n",
    "                print(str(a)+str(b)+str(c)+str(d)+str(e))\n",
    "               "
   ]
  },
  {
   "cell_type": "code",
   "execution_count": 94,
   "id": "c3251d02-251e-406a-8eaf-1fc4fa1c25a3",
   "metadata": {},
   "outputs": [
    {
     "name": "stdout",
     "output_type": "stream",
     "text": [
      "75313\n"
     ]
    }
   ],
   "source": [
    "five_digit_function()"
   ]
  },
  {
   "cell_type": "code",
   "execution_count": null,
   "id": "69d9db35-4422-4fe1-9779-b6e8bf89d12c",
   "metadata": {},
   "outputs": [],
   "source": []
  }
 ],
 "metadata": {
  "kernelspec": {
   "display_name": "Python 3 (ipykernel)",
   "language": "python",
   "name": "python3"
  },
  "language_info": {
   "codemirror_mode": {
    "name": "ipython",
    "version": 3
   },
   "file_extension": ".py",
   "mimetype": "text/x-python",
   "name": "python",
   "nbconvert_exporter": "python",
   "pygments_lexer": "ipython3",
   "version": "3.12.4"
  }
 },
 "nbformat": 4,
 "nbformat_minor": 5
}
